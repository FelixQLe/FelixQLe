{
  "cells": [
    {
      "cell_type": "markdown",
      "metadata": {
        "id": "view-in-github",
        "colab_type": "text"
      },
      "source": [
        "<a href=\"https://colab.research.google.com/github/FelixQLe/FelixQLe/blob/main/Develop_a_decent_workflow_to_pre_approve_Loan_using_Flask_App.ipynb\" target=\"_parent\"><img src=\"https://colab.research.google.com/assets/colab-badge.svg\" alt=\"Open In Colab\"/></a>"
      ]
    },
    {
      "cell_type": "markdown",
      "id": "8c516528",
      "metadata": {
        "id": "8c516528"
      },
      "source": [
        "##### Instruction on how to develop a pipeline model includes features transformation combine predictive model, and deploy on web app framework using Flask python"
      ]
    },
    {
      "cell_type": "markdown",
      "id": "967eae79",
      "metadata": {
        "id": "967eae79"
      },
      "source": [
        "In this tutorial, you will know:\n",
        "* How to develop Hypotheses for EDA(Explore Data Analysis)\n",
        "* how to use function transformer to transform features functions are used for pipeline's features tranformation\n",
        "* how to use pickle, save and load model when needed\n",
        "* how to deploy model on web app framework using Flask python"
      ]
    },
    {
      "cell_type": "markdown",
      "id": "4988569c",
      "metadata": {
        "id": "4988569c"
      },
      "source": [
        "### Tutorial Overview\n",
        "\n",
        "This tutorial is divided into six parts, they are:\n",
        "\n",
        "\n",
        "1. Hypotheses generation\n",
        "2. Initial cleaning\n",
        "3. EDA(Explore Data Analysis)\n",
        "4. Feature Engineering\n",
        "5. Develop Pipeline models\n",
        "6. deploy model on Flask app"
      ]
    },
    {
      "cell_type": "markdown",
      "id": "f73d6370",
      "metadata": {
        "id": "f73d6370"
      },
      "source": [
        "INTRO: The pre-approval Loan problem uses data which is online applications form are being filled by customer, and the customer will get back the Loan decision immediately\n",
        "\n",
        "\n",
        "### Dataset\n",
        "\n",
        "The data is applicants informations are provided as online application forms are being filled. Here is the link to https://github.com/FelixQLe/mini-project-4/blob/master/data/data.csv\n",
        "\n",
        "\n",
        "Customer will fill in informations includes the customer's Gender, Marital Status, Education, Number of Dependents, Income, Loan Amount, Credit History and other things as well.\n",
        "\n",
        "|Variable| Description|\n",
        "|: ------------- |:-------------|\n",
        "|Loan_ID| Unique Loan ID|\n",
        "|Gender| Male/ Female|\n",
        "|Married| Applicant married (Y/N)|\n",
        "|Dependents| Number of dependents|\n",
        "|Education| Applicant Education (Graduate/ Under Graduate)|\n",
        "|Self_Employed| Self employed (Y/N)|\n",
        "|ApplicantIncome| Applicant income|\n",
        "|CoapplicantIncome| Coapplicant income|\n",
        "|LoanAmount| Loan amount in thousands|\n",
        "|Loan_Amount_Term| Term of loan in months|\n",
        "|Credit_History| credit history meets guidelines|\n",
        "|Property_Area| Urban/ Semi Urban/ Rural|\n",
        "|Loan_Status| Loan approved (Y/N)\n"
      ]
    },
    {
      "cell_type": "markdown",
      "id": "fa12c1b7",
      "metadata": {
        "id": "fa12c1b7"
      },
      "source": [
        "##### Load dataset"
      ]
    },
    {
      "cell_type": "code",
      "execution_count": null,
      "id": "a11079fa",
      "metadata": {
        "id": "a11079fa"
      },
      "outputs": [],
      "source": [
        "import pandas as pd\n",
        "\n",
        "#loading dataset\n",
        "df = pd.read_csv(\"data/data.csv\")"
      ]
    },
    {
      "cell_type": "markdown",
      "id": "2fe74c6a",
      "metadata": {
        "id": "2fe74c6a"
      },
      "source": [
        "### 1. Hypotheses Generation"
      ]
    },
    {
      "cell_type": "markdown",
      "id": "c4616586",
      "metadata": {
        "id": "c4616586"
      },
      "source": [
        "Hypotheses is important step to understand the our data featuates. Its important to generate every hypothesis for every feature in our data, to see how important each feature is. \n",
        "\n",
        "The solely purpose of this tutorial is how to develop a decent workflow that you can apply on different problems, therefore in this tutorial I only generate hypotheses on some features.\n",
        "\n",
        "To get a score, you need to realy understand the data that you can generate other features to add to original data which will help increase the predictive power\n",
        "\n",
        "\n",
        "1. Applicants having a credit history more likely get approval, vice-versa. Credit history showing reliable informations of applicants income, spending and saving.\n",
        "\n",
        "\n",
        "2. Applicants with higher applicantincome and co-applicantincome has more more likely get approval. Income is evidently showing their ability to pay back their loan.\n",
        "\n",
        "\n",
        "3. Applicants graduated is likely to be considered to Loan status decision. applicants  graduated is likely to get higher income and secure job which is showing their ability to pay back their loan soon.\n",
        "\n",
        "\n",
        "4. Semiurbun applicants has higher change to get approval, they are in high growth perspectives.\n",
        "\n",
        "\n",
        "5. Applicants with self_employed are likely to get approval. If they own a business. For those self_employed they will have high income.\n",
        "\n",
        "\n",
        "6. Applicants have more dependants likely get refused to loan decision. They have to spend more than other groups."
      ]
    },
    {
      "cell_type": "markdown",
      "id": "fb3bbe99",
      "metadata": {
        "id": "fb3bbe99"
      },
      "source": [
        "### 2. Initial Cleaning"
      ]
    },
    {
      "cell_type": "markdown",
      "id": "5100b71a",
      "metadata": {
        "id": "5100b71a"
      },
      "source": [
        "There are some type of treatments to null value. for the purpose of this tutorial, I will using simple mean, median, mode to fill in null value, you can use some other advance techniques to to improve data and improve predictive power "
      ]
    },
    {
      "cell_type": "markdown",
      "id": "8c53eb1e",
      "metadata": {
        "id": "8c53eb1e"
      },
      "source": [
        "#### Investigate data"
      ]
    },
    {
      "cell_type": "code",
      "execution_count": null,
      "id": "f85251ba",
      "metadata": {
        "id": "f85251ba",
        "outputId": "38066c62-2e2f-482c-e9f0-c02fbf91f47c"
      },
      "outputs": [
        {
          "data": {
            "text/plain": [
              "Loan_ID              0.000000\n",
              "Gender               2.117264\n",
              "Married              0.488599\n",
              "Dependents           2.442997\n",
              "Education            0.000000\n",
              "Self_Employed        5.211726\n",
              "ApplicantIncome      0.000000\n",
              "CoapplicantIncome    0.000000\n",
              "LoanAmount           3.583062\n",
              "Loan_Amount_Term     2.280130\n",
              "Credit_History       8.143322\n",
              "Property_Area        0.000000\n",
              "Loan_Status          0.000000\n",
              "dtype: float64"
            ]
          },
          "execution_count": 108,
          "metadata": {},
          "output_type": "execute_result"
        }
      ],
      "source": [
        "#missing values percentages\n",
        "df.isnull().sum()/len(df)*100"
      ]
    },
    {
      "cell_type": "markdown",
      "id": "7fe7baeb",
      "metadata": {
        "id": "7fe7baeb"
      },
      "source": [
        "### Null treatments\n",
        "* Gender will be filled with mode()\n",
        "* Credit_history use median()\n",
        "* Loan_Amount missing values, I will use mean()\n",
        "* Self_employed will be filled with No\n",
        "* Dependencies will be filled with mode()\n",
        "* fillna Married with mode()\n",
        "* Load_Amount_Term will fill NaN with median()"
      ]
    },
    {
      "cell_type": "code",
      "execution_count": null,
      "id": "2ebe90a8",
      "metadata": {
        "id": "2ebe90a8"
      },
      "outputs": [],
      "source": [
        "#fillna technique\n",
        "df['Gender'].fillna(df['Gender'].mode().iloc[0], inplace=True)\n",
        "df['Credit_History'].fillna(df['Credit_History'].mode().iloc[0], inplace=True)\n",
        "df['LoanAmount'].fillna(float(round(df['LoanAmount'].mean(), 0)), inplace=True)\n",
        "df['Self_Employed'].fillna(\"No\", inplace=True)\n",
        "df['Dependents'].fillna(df['Dependents'].mode().iloc[0], inplace=True)\n",
        "df['Married'].fillna(df['Married'].mode().iloc[0], inplace=True)\n",
        "df['Loan_Amount_Term'].fillna(df['Loan_Amount_Term'].median(), inplace=True)\n",
        "#df[\"value\"] = df.groupby(\"name\").transform(lambda x: x.fillna(x.mean()))\n",
        "df['LoanAmount'] = df['LoanAmount'].astype(int)"
      ]
    },
    {
      "cell_type": "code",
      "execution_count": null,
      "id": "f86525e1",
      "metadata": {
        "id": "f86525e1",
        "outputId": "26fabe93-3a67-4ee8-a032-70fe60bc5f48"
      },
      "outputs": [
        {
          "data": {
            "text/plain": [
              "Loan_ID              0.0\n",
              "Gender               0.0\n",
              "Married              0.0\n",
              "Dependents           0.0\n",
              "Education            0.0\n",
              "Self_Employed        0.0\n",
              "ApplicantIncome      0.0\n",
              "CoapplicantIncome    0.0\n",
              "LoanAmount           0.0\n",
              "Loan_Amount_Term     0.0\n",
              "Credit_History       0.0\n",
              "Property_Area        0.0\n",
              "Loan_Status          0.0\n",
              "dtype: float64"
            ]
          },
          "execution_count": 110,
          "metadata": {},
          "output_type": "execute_result"
        }
      ],
      "source": [
        "#checking missing values again\n",
        "df.isnull().sum()/len(df)*100"
      ]
    },
    {
      "cell_type": "markdown",
      "id": "67db1b83",
      "metadata": {
        "id": "67db1b83"
      },
      "source": [
        "### 3. Data Exploration Analysis (EDA)\n",
        "EDA is where we prove our hypotheses are true or not, and show how importance of each feature is to our model\n",
        "\n",
        "Let's do some basic data exploration here and come up with some inferences about the data. I will try to figure out some irregularities and address them in the next section."
      ]
    },
    {
      "cell_type": "markdown",
      "id": "7c824b51",
      "metadata": {
        "id": "7c824b51"
      },
      "source": [
        "##### 3.1 Semiurbun applicants has higher change to get approval, they are in high growth perspectives."
      ]
    },
    {
      "cell_type": "code",
      "execution_count": null,
      "id": "42635acb",
      "metadata": {
        "id": "42635acb"
      },
      "outputs": [],
      "source": [
        "#seperate areas\n",
        "urban_df = df[df['Property_Area'] == 'Urban']\n",
        "rural_df = df[df['Property_Area'] == 'Rural']\n",
        "semi_df = df[df['Property_Area'] == 'Semiurban']"
      ]
    },
    {
      "cell_type": "code",
      "execution_count": null,
      "id": "63c5ab32",
      "metadata": {
        "id": "63c5ab32",
        "outputId": "590b40c1-2af4-4f90-a778-50552711e813"
      },
      "outputs": [
        {
          "name": "stdout",
          "output_type": "stream",
          "text": [
            "Applicants living in urban area got approved: 0.66%\n",
            "Applicants living in urban area got disapproved: 0.34%\n"
          ]
        }
      ],
      "source": [
        "#ratio between approved and not approved applicants in Urban\n",
        "print(\"Applicants living in urban area got approved: {}%\".format(\n",
        "      round(len(urban_df[urban_df['Loan_Status'] == 'Y'])/len(urban_df), 2)))\n",
        "print(\"Applicants living in urban area got disapproved: {}%\".format(\n",
        "      round(len(urban_df[urban_df['Loan_Status'] == 'N'])/len(urban_df), 2)))"
      ]
    },
    {
      "cell_type": "markdown",
      "id": "97042a43",
      "metadata": {
        "id": "97042a43"
      },
      "source": [
        "* This is not what i expected, the applicants got approved double the disapproved applicants. Lets see the other areas"
      ]
    },
    {
      "cell_type": "code",
      "execution_count": null,
      "id": "bdd8fc69",
      "metadata": {
        "id": "bdd8fc69",
        "outputId": "62bd9452-4269-4692-8320-6b5e76f9558c"
      },
      "outputs": [
        {
          "name": "stdout",
          "output_type": "stream",
          "text": [
            "Applicants living in rural area got approved: 0.61%\n",
            "Applicants living in rural area got disapproved: 0.39%\n"
          ]
        }
      ],
      "source": [
        "#ratio between approved and not approved applicants in Rural\n",
        "print(\"Applicants living in rural area got approved: {}%\".format(\n",
        "      round(len(rural_df[rural_df['Loan_Status'] == 'Y'])/len(rural_df), 2)))\n",
        "print(\"Applicants living in rural area got disapproved: {}%\".format(\n",
        "      round(len(rural_df[rural_df['Loan_Status'] == 'N'])/len(rural_df), 2)))"
      ]
    },
    {
      "cell_type": "markdown",
      "id": "76c6e35c",
      "metadata": {
        "id": "76c6e35c"
      },
      "source": [
        "* Rural and Urban approval ratio are almost the same"
      ]
    },
    {
      "cell_type": "code",
      "execution_count": null,
      "id": "751cb9e6",
      "metadata": {
        "id": "751cb9e6",
        "outputId": "bdd8f7c0-50bd-4bf4-deb6-d967b653b1e5"
      },
      "outputs": [
        {
          "name": "stdout",
          "output_type": "stream",
          "text": [
            "Applicants living in urban area got approved: 0.77%\n",
            "Applicants living in urban area got disapproved: 0.23%\n"
          ]
        }
      ],
      "source": [
        "#ratio between approved and not approved applicants Semi-urban\n",
        "print(\"Applicants living in urban area got approved: {}%\".format(\n",
        "      round(len(semi_df[semi_df['Loan_Status'] == 'Y'])/len(semi_df), 2)))\n",
        "print(\"Applicants living in urban area got disapproved: {}%\".format(\n",
        "      round(len(semi_df[semi_df['Loan_Status'] == 'N'])/len(semi_df), 2)))"
      ]
    },
    {
      "cell_type": "markdown",
      "id": "a1cfdadd",
      "metadata": {
        "id": "a1cfdadd"
      },
      "source": [
        "As I expected, The percentage of applicants living in semi-urban got approved are higher than the other areas, also the percentage of applicants got disapproved are significantly lower than the other areas.\n",
        "\n",
        "conclusion, semi-urban applicants has higher change to get approval, they are in high growth perspectives."
      ]
    },
    {
      "cell_type": "markdown",
      "id": "0f78e954",
      "metadata": {
        "id": "0f78e954"
      },
      "source": [
        "##### 3.2 Applicants having a credit history more likely get approval, vice-versa. Credit history showing reliable informations of applicants income, spending and saving."
      ]
    },
    {
      "cell_type": "code",
      "execution_count": null,
      "id": "44378f88",
      "metadata": {
        "id": "44378f88",
        "outputId": "a13a16a2-ad71-42ac-87dd-bd2ca6866009"
      },
      "outputs": [
        {
          "name": "stdout",
          "output_type": "stream",
          "text": [
            " The total number of no history score is 89,         which is 14.50% of the total applicants\n",
            " The total number of yes history score is 525,       which is 85.50% of the total applicants\n"
          ]
        }
      ],
      "source": [
        "#Lets see How many applicants have a `Credit_History`\n",
        "total_rows = len(df['Credit_History'])\n",
        "total_no_hist = df.groupby('Credit_History')['Credit_History'].count().iloc[0]\n",
        "total_yes_hist = df.groupby('Credit_History')['Credit_History'].count().iloc[1]\n",
        "prop_no_hist = (total_no_hist/total_rows)*100\n",
        "prop_yes_hist = (total_yes_hist/total_rows)*100\n",
        "\n",
        "print(f' The total number of no history score is {total_no_hist}, \\\n",
        "        which is {prop_no_hist:.2f}% of the total applicants')\n",
        "print(f' The total number of yes history score is {total_yes_hist}, \\\n",
        "      which is {prop_yes_hist:.2f}% of the total applicants')"
      ]
    },
    {
      "cell_type": "code",
      "execution_count": null,
      "id": "ac5b5920",
      "metadata": {
        "id": "ac5b5920"
      },
      "outputs": [],
      "source": [
        "#extract df credit history \n",
        "df_no_credit = df[df['Credit_History'] == 0.0]\n",
        "df_yes_credit = df[df['Credit_History'] == 1.0]"
      ]
    },
    {
      "cell_type": "code",
      "execution_count": null,
      "id": "6f7b3d13",
      "metadata": {
        "id": "6f7b3d13",
        "outputId": "51f4fbe9-48b2-4c68-fd29-8fdb2071e3ab"
      },
      "outputs": [
        {
          "name": "stdout",
          "output_type": "stream",
          "text": [
            "Applicants without credit history score get approval: 0.08%\n",
            "Applicants without credit history score got disproval: 0.92%\n"
          ]
        }
      ],
      "source": [
        "#ratio of applicants loan status with no credit history score\n",
        "print(\"Applicants without credit history score get approval: {}%\".format(\n",
        "      round(len(df_no_credit[df_no_credit['Loan_Status'] == 'Y'])/len(df_no_credit), 2)))\n",
        "print(\"Applicants without credit history score got disproval: {}%\".format(\n",
        "      round(len(df_no_credit[df_no_credit['Loan_Status'] == 'N'])/len(df_no_credit), 2)))"
      ]
    },
    {
      "cell_type": "code",
      "execution_count": null,
      "id": "b67fc973",
      "metadata": {
        "id": "b67fc973",
        "outputId": "48106b9d-e06a-4483-d8c3-ed420b1c9ce0"
      },
      "outputs": [
        {
          "name": "stdout",
          "output_type": "stream",
          "text": [
            "Applicants with credit history score get approval: 0.79%\n",
            "Applicants with credit history score got disproval: 0.21%\n"
          ]
        }
      ],
      "source": [
        "#ratio of applicants loan status with credit history score\n",
        "print(\"Applicants with credit history score get approval: {}%\".format(\n",
        "      round(len(df_yes_credit[df_yes_credit['Loan_Status'] == 'Y'])/len(df_yes_credit), 2)))\n",
        "print(\"Applicants with credit history score got disproval: {}%\".format(\n",
        "      round(len(df_yes_credit[df_yes_credit['Loan_Status'] == 'N'])/len(df_yes_credit), 2)))"
      ]
    },
    {
      "cell_type": "markdown",
      "id": "f655316c",
      "metadata": {
        "id": "f655316c"
      },
      "source": [
        "we can conclude that applicants having a credit history more likely get approval, vice-versa"
      ]
    },
    {
      "cell_type": "markdown",
      "id": "00f4976c",
      "metadata": {
        "id": "00f4976c"
      },
      "source": [
        "I kept using the the same technique above to work on the other 4 hypotheses. you can see more in this link to my Git https://github.com/FelixQLe/mini-project-4\n",
        "\n",
        "You can practice on your own work with them later, even add more hypotheses.\n",
        "\n",
        "Lets move on the next step..."
      ]
    },
    {
      "cell_type": "code",
      "execution_count": null,
      "id": "f548a00b",
      "metadata": {
        "id": "f548a00b"
      },
      "outputs": [],
      "source": [
        "# Loan status will return 0 or 1 instead of Y or N\n",
        "df['Loan_Status'] = np.where(df['Loan_Status'] == 'N', 0, 1)"
      ]
    },
    {
      "cell_type": "code",
      "execution_count": null,
      "id": "baee2fd8",
      "metadata": {
        "id": "baee2fd8",
        "outputId": "358e2913-2b9b-4374-9349-5c051e6d7e10"
      },
      "outputs": [
        {
          "data": {
            "text/html": [
              "<div>\n",
              "<style scoped>\n",
              "    .dataframe tbody tr th:only-of-type {\n",
              "        vertical-align: middle;\n",
              "    }\n",
              "\n",
              "    .dataframe tbody tr th {\n",
              "        vertical-align: top;\n",
              "    }\n",
              "\n",
              "    .dataframe thead th {\n",
              "        text-align: right;\n",
              "    }\n",
              "</style>\n",
              "<table border=\"1\" class=\"dataframe\">\n",
              "  <thead>\n",
              "    <tr style=\"text-align: right;\">\n",
              "      <th></th>\n",
              "      <th>Loan_ID</th>\n",
              "      <th>Gender</th>\n",
              "      <th>Married</th>\n",
              "      <th>Dependents</th>\n",
              "      <th>Education</th>\n",
              "      <th>Self_Employed</th>\n",
              "      <th>ApplicantIncome</th>\n",
              "      <th>CoapplicantIncome</th>\n",
              "      <th>LoanAmount</th>\n",
              "      <th>Loan_Amount_Term</th>\n",
              "      <th>Credit_History</th>\n",
              "      <th>Property_Area</th>\n",
              "      <th>Loan_Status</th>\n",
              "    </tr>\n",
              "  </thead>\n",
              "  <tbody>\n",
              "    <tr>\n",
              "      <th>0</th>\n",
              "      <td>LP001002</td>\n",
              "      <td>Male</td>\n",
              "      <td>No</td>\n",
              "      <td>0</td>\n",
              "      <td>Graduate</td>\n",
              "      <td>No</td>\n",
              "      <td>5849</td>\n",
              "      <td>0.0</td>\n",
              "      <td>146</td>\n",
              "      <td>360.0</td>\n",
              "      <td>1.0</td>\n",
              "      <td>Urban</td>\n",
              "      <td>1</td>\n",
              "    </tr>\n",
              "    <tr>\n",
              "      <th>1</th>\n",
              "      <td>LP001003</td>\n",
              "      <td>Male</td>\n",
              "      <td>Yes</td>\n",
              "      <td>1</td>\n",
              "      <td>Graduate</td>\n",
              "      <td>No</td>\n",
              "      <td>4583</td>\n",
              "      <td>1508.0</td>\n",
              "      <td>128</td>\n",
              "      <td>360.0</td>\n",
              "      <td>1.0</td>\n",
              "      <td>Rural</td>\n",
              "      <td>0</td>\n",
              "    </tr>\n",
              "    <tr>\n",
              "      <th>2</th>\n",
              "      <td>LP001005</td>\n",
              "      <td>Male</td>\n",
              "      <td>Yes</td>\n",
              "      <td>0</td>\n",
              "      <td>Graduate</td>\n",
              "      <td>Yes</td>\n",
              "      <td>3000</td>\n",
              "      <td>0.0</td>\n",
              "      <td>66</td>\n",
              "      <td>360.0</td>\n",
              "      <td>1.0</td>\n",
              "      <td>Urban</td>\n",
              "      <td>1</td>\n",
              "    </tr>\n",
              "    <tr>\n",
              "      <th>3</th>\n",
              "      <td>LP001006</td>\n",
              "      <td>Male</td>\n",
              "      <td>Yes</td>\n",
              "      <td>0</td>\n",
              "      <td>Not Graduate</td>\n",
              "      <td>No</td>\n",
              "      <td>2583</td>\n",
              "      <td>2358.0</td>\n",
              "      <td>120</td>\n",
              "      <td>360.0</td>\n",
              "      <td>1.0</td>\n",
              "      <td>Urban</td>\n",
              "      <td>1</td>\n",
              "    </tr>\n",
              "    <tr>\n",
              "      <th>4</th>\n",
              "      <td>LP001008</td>\n",
              "      <td>Male</td>\n",
              "      <td>No</td>\n",
              "      <td>0</td>\n",
              "      <td>Graduate</td>\n",
              "      <td>No</td>\n",
              "      <td>6000</td>\n",
              "      <td>0.0</td>\n",
              "      <td>141</td>\n",
              "      <td>360.0</td>\n",
              "      <td>1.0</td>\n",
              "      <td>Urban</td>\n",
              "      <td>1</td>\n",
              "    </tr>\n",
              "  </tbody>\n",
              "</table>\n",
              "</div>"
            ],
            "text/plain": [
              "    Loan_ID Gender Married Dependents     Education Self_Employed  \\\n",
              "0  LP001002   Male      No          0      Graduate            No   \n",
              "1  LP001003   Male     Yes          1      Graduate            No   \n",
              "2  LP001005   Male     Yes          0      Graduate           Yes   \n",
              "3  LP001006   Male     Yes          0  Not Graduate            No   \n",
              "4  LP001008   Male      No          0      Graduate            No   \n",
              "\n",
              "   ApplicantIncome  CoapplicantIncome  LoanAmount  Loan_Amount_Term  \\\n",
              "0             5849                0.0         146             360.0   \n",
              "1             4583             1508.0         128             360.0   \n",
              "2             3000                0.0          66             360.0   \n",
              "3             2583             2358.0         120             360.0   \n",
              "4             6000                0.0         141             360.0   \n",
              "\n",
              "   Credit_History Property_Area  Loan_Status  \n",
              "0             1.0         Urban            1  \n",
              "1             1.0         Rural            0  \n",
              "2             1.0         Urban            1  \n",
              "3             1.0         Urban            1  \n",
              "4             1.0         Urban            1  "
            ]
          },
          "execution_count": 120,
          "metadata": {},
          "output_type": "execute_result"
        }
      ],
      "source": [
        "df.head(5)"
      ]
    },
    {
      "cell_type": "code",
      "execution_count": null,
      "id": "a419c203",
      "metadata": {
        "id": "a419c203"
      },
      "outputs": [],
      "source": [
        "# add a Total_Income column which add applicantincome and co-applicantincome\n",
        "\n",
        "df['Total_Income'] = df['ApplicantIncome'] + df['CoapplicantIncome'] #ApplicantIncome + CoapplicantIncome\n",
        "df = df.drop(columns=['ApplicantIncome', 'CoapplicantIncome', 'Loan_ID'])"
      ]
    },
    {
      "cell_type": "code",
      "execution_count": null,
      "id": "9feeb56c",
      "metadata": {
        "id": "9feeb56c"
      },
      "outputs": [],
      "source": [
        "# save csv cleaned data\n",
        "df.to_csv(\"data/cleaned_data.csv\")"
      ]
    },
    {
      "cell_type": "markdown",
      "id": "2ea895e8",
      "metadata": {
        "id": "2ea895e8"
      },
      "source": [
        "### 4. Feature Engineering"
      ]
    },
    {
      "cell_type": "markdown",
      "id": "d245c007",
      "metadata": {
        "id": "d245c007"
      },
      "source": [
        "#### The following feature engineering is based on EDA, make sure you complete previous step to better understand these FE\n",
        "* Gender and Married, Self_Employed, Education, will be 0 and 1\n",
        "* Loan amount term will be in term of year, Model will treat it as level when perform prediction\n",
        "* I will use Total_Income for ApplicantIncome and CoapplicantIncome\n",
        "* Loan_status, I will use Label encoder, this is target\n",
        "* Property_Area I will use Labelencoder, It is easy for Model to treat them as level"
      ]
    },
    {
      "cell_type": "code",
      "execution_count": null,
      "id": "4210eb18",
      "metadata": {
        "id": "4210eb18"
      },
      "outputs": [],
      "source": [
        "#import packages\n",
        "import numpy as np\n",
        "\n",
        "#df = df.drop(columns='Loan_ID')\n",
        "\n",
        "#Gender and Married, Self_Employed, Education\n",
        "df['Gender'] = np.where(df['Gender'] == 'Male', 0, 1)\n",
        "df['Married'] = np.where(df['Married'] == 'No', 0, 1)\n",
        "\n",
        "# Self_Employed has no power of prediction, but I will keep it for now\n",
        "df['Self_Employed'] = np.where(df['Self_Employed'] == 'No', 0, 1)\n",
        "\n",
        "df['Education'] = np.where(df['Education'] == 'Not Graduate', 0, 1)"
      ]
    },
    {
      "cell_type": "code",
      "execution_count": null,
      "id": "47dab4b4",
      "metadata": {
        "id": "47dab4b4"
      },
      "outputs": [],
      "source": [
        "# Load_Amount_Term\n",
        "\n",
        "df['Loan_Amount_Term'] = df['Loan_Amount_Term']/12\n",
        "df['Loan_Term_Year'] = df['Loan_Amount_Term'].astype(int)\n",
        "df.drop(columns=['Loan_Amount_Term'], inplace=True)"
      ]
    },
    {
      "cell_type": "code",
      "execution_count": null,
      "id": "8bfe0986",
      "metadata": {
        "id": "8bfe0986"
      },
      "outputs": [],
      "source": [
        "# Dependents\n",
        "\n",
        "col         = 'Dependents'\n",
        "conditions  = [df[col] == '0', df[col] == '3+']\n",
        "choices     = ['0','2']\n",
        "    \n",
        "#df[\"Dependents\"] = np.select(conditions, choices, default='1')"
      ]
    },
    {
      "cell_type": "code",
      "execution_count": null,
      "id": "6135a2ed",
      "metadata": {
        "id": "6135a2ed",
        "outputId": "b9460fff-a7cd-4362-d196-3619779d0ead"
      },
      "outputs": [
        {
          "data": {
            "text/plain": [
              "array(['0', '1', '2', '3+'], dtype=object)"
            ]
          },
          "execution_count": 127,
          "metadata": {},
          "output_type": "execute_result"
        }
      ],
      "source": [
        "#checking unique value in dependency column\n",
        "df['Dependents'].unique()"
      ]
    },
    {
      "cell_type": "markdown",
      "id": "4bc39af5",
      "metadata": {
        "id": "4bc39af5"
      },
      "source": [
        "#### Log transform LoanAmount and Total_Income\n",
        "* this perfoming will ensure our numeric cols in normal distribution"
      ]
    },
    {
      "cell_type": "code",
      "execution_count": null,
      "id": "de748854",
      "metadata": {
        "id": "de748854",
        "outputId": "2a0d5277-69fa-46aa-8c62-b38b38f3d343"
      },
      "outputs": [
        {
          "data": {
            "text/plain": [
              "(array([  1.,   1.,   5.,  16.,  49., 200., 250.,  61.,  19.,  12.]),\n",
              " array([2.19722458, 2.63261015, 3.06799573, 3.5033813 , 3.93876688,\n",
              "        4.37415246, 4.80953803, 5.24492361, 5.68030918, 6.11569476,\n",
              "        6.55108034]),\n",
              " <BarContainer object of 10 artists>)"
            ]
          },
          "execution_count": 128,
          "metadata": {},
          "output_type": "execute_result"
        },
        {
          "data": {
            "image/png": "[encoded data removed]",
            "text/plain": [
              "<Figure size 640x480 with 2 Axes>"
            ]
          },
          "metadata": {},
          "output_type": "display_data"
        }
      ],
      "source": [
        "import matplotlib.pyplot as plt\n",
        "\n",
        "LoanAmount_log = np.log(df['LoanAmount'])\n",
        "\n",
        "#define grid of plots\n",
        "fig, axs = plt.subplots(nrows=1, ncols=2)\n",
        "\n",
        "#create histograms\n",
        "axs[0].hist(df['LoanAmount'], edgecolor='black')\n",
        "axs[1].hist(LoanAmount_log, edgecolor='black')"
      ]
    },
    {
      "cell_type": "markdown",
      "id": "b6269e42",
      "metadata": {
        "id": "b6269e42"
      },
      "source": [
        "#### ApplicantIncome and CoApplicantIncome\n",
        "Applicants with higher applicantincome and co-applicantincome has more more likely get approval. Income is evidently showing their ability to pay back their loan. A total_income column will have more power of prediction"
      ]
    },
    {
      "cell_type": "code",
      "execution_count": null,
      "id": "4937a4a3",
      "metadata": {
        "id": "4937a4a3",
        "outputId": "69af59b7-1efb-48f7-b2ea-962ac083ec97"
      },
      "outputs": [
        {
          "data": {
            "text/html": [
              "<div>\n",
              "<style scoped>\n",
              "    .dataframe tbody tr th:only-of-type {\n",
              "        vertical-align: middle;\n",
              "    }\n",
              "\n",
              "    .dataframe tbody tr th {\n",
              "        vertical-align: top;\n",
              "    }\n",
              "\n",
              "    .dataframe thead th {\n",
              "        text-align: right;\n",
              "    }\n",
              "</style>\n",
              "<table border=\"1\" class=\"dataframe\">\n",
              "  <thead>\n",
              "    <tr style=\"text-align: right;\">\n",
              "      <th></th>\n",
              "      <th>Gender</th>\n",
              "      <th>Married</th>\n",
              "      <th>Dependents</th>\n",
              "      <th>Education</th>\n",
              "      <th>Self_Employed</th>\n",
              "      <th>LoanAmount</th>\n",
              "      <th>Credit_History</th>\n",
              "      <th>Property_Area</th>\n",
              "      <th>Loan_Status</th>\n",
              "      <th>Total_Income</th>\n",
              "      <th>Loan_Term_Year</th>\n",
              "    </tr>\n",
              "  </thead>\n",
              "  <tbody>\n",
              "    <tr>\n",
              "      <th>0</th>\n",
              "      <td>0</td>\n",
              "      <td>0</td>\n",
              "      <td>0</td>\n",
              "      <td>1</td>\n",
              "      <td>0</td>\n",
              "      <td>146</td>\n",
              "      <td>1.0</td>\n",
              "      <td>Urban</td>\n",
              "      <td>1</td>\n",
              "      <td>5849.0</td>\n",
              "      <td>30</td>\n",
              "    </tr>\n",
              "    <tr>\n",
              "      <th>1</th>\n",
              "      <td>0</td>\n",
              "      <td>1</td>\n",
              "      <td>1</td>\n",
              "      <td>1</td>\n",
              "      <td>0</td>\n",
              "      <td>128</td>\n",
              "      <td>1.0</td>\n",
              "      <td>Rural</td>\n",
              "      <td>0</td>\n",
              "      <td>6091.0</td>\n",
              "      <td>30</td>\n",
              "    </tr>\n",
              "    <tr>\n",
              "      <th>2</th>\n",
              "      <td>0</td>\n",
              "      <td>1</td>\n",
              "      <td>0</td>\n",
              "      <td>1</td>\n",
              "      <td>1</td>\n",
              "      <td>66</td>\n",
              "      <td>1.0</td>\n",
              "      <td>Urban</td>\n",
              "      <td>1</td>\n",
              "      <td>3000.0</td>\n",
              "      <td>30</td>\n",
              "    </tr>\n",
              "    <tr>\n",
              "      <th>3</th>\n",
              "      <td>0</td>\n",
              "      <td>1</td>\n",
              "      <td>0</td>\n",
              "      <td>0</td>\n",
              "      <td>0</td>\n",
              "      <td>120</td>\n",
              "      <td>1.0</td>\n",
              "      <td>Urban</td>\n",
              "      <td>1</td>\n",
              "      <td>4941.0</td>\n",
              "      <td>30</td>\n",
              "    </tr>\n",
              "    <tr>\n",
              "      <th>4</th>\n",
              "      <td>0</td>\n",
              "      <td>0</td>\n",
              "      <td>0</td>\n",
              "      <td>1</td>\n",
              "      <td>0</td>\n",
              "      <td>141</td>\n",
              "      <td>1.0</td>\n",
              "      <td>Urban</td>\n",
              "      <td>1</td>\n",
              "      <td>6000.0</td>\n",
              "      <td>30</td>\n",
              "    </tr>\n",
              "  </tbody>\n",
              "</table>\n",
              "</div>"
            ],
            "text/plain": [
              "   Gender  Married Dependents  Education  Self_Employed  LoanAmount  \\\n",
              "0       0        0          0          1              0         146   \n",
              "1       0        1          1          1              0         128   \n",
              "2       0        1          0          1              1          66   \n",
              "3       0        1          0          0              0         120   \n",
              "4       0        0          0          1              0         141   \n",
              "\n",
              "   Credit_History Property_Area  Loan_Status  Total_Income  Loan_Term_Year  \n",
              "0             1.0         Urban            1        5849.0              30  \n",
              "1             1.0         Rural            0        6091.0              30  \n",
              "2             1.0         Urban            1        3000.0              30  \n",
              "3             1.0         Urban            1        4941.0              30  \n",
              "4             1.0         Urban            1        6000.0              30  "
            ]
          },
          "execution_count": 129,
          "metadata": {},
          "output_type": "execute_result"
        }
      ],
      "source": [
        "df.head(5)"
      ]
    },
    {
      "cell_type": "code",
      "execution_count": null,
      "id": "2d67ddcd",
      "metadata": {
        "id": "2d67ddcd",
        "outputId": "ab26b92c-81dc-4eb5-d314-b9b5a71e2522"
      },
      "outputs": [
        {
          "data": {
            "text/plain": [
              "(array([  7.,  53., 186., 205.,  91.,  41.,  20.,   4.,   5.,   2.]),\n",
              " array([ 7.27378632,  7.67662813,  8.07946994,  8.48231175,  8.88515356,\n",
              "         9.28799538,  9.69083719, 10.093679  , 10.49652081, 10.89936262,\n",
              "        11.30220443]),\n",
              " <BarContainer object of 10 artists>)"
            ]
          },
          "execution_count": 130,
          "metadata": {},
          "output_type": "execute_result"
        },
        {
          "data": {
            "image/png": "[encoded data removed]",
            "text/plain": [
              "<Figure size 640x480 with 2 Axes>"
            ]
          },
          "metadata": {},
          "output_type": "display_data"
        }
      ],
      "source": [
        "TotalIncome_log = np.log(df['Total_Income'])\n",
        "\n",
        "#define grid of plots\n",
        "fig, axs = plt.subplots(nrows=1, ncols=2)\n",
        "\n",
        "#create histograms\n",
        "axs[0].hist(df['Total_Income'], edgecolor='black')\n",
        "axs[1].hist(TotalIncome_log, edgecolor='black')"
      ]
    },
    {
      "cell_type": "markdown",
      "id": "17ab8eb9",
      "metadata": {
        "id": "17ab8eb9"
      },
      "source": [
        "Note: All FEATURE ENGINEERING will be performed in pipeline, feature transformation"
      ]
    },
    {
      "cell_type": "markdown",
      "id": "195f3941",
      "metadata": {
        "id": "195f3941"
      },
      "source": [
        "### 5. Develop Pipeline models"
      ]
    },
    {
      "cell_type": "code",
      "execution_count": null,
      "id": "38802cd3",
      "metadata": {
        "id": "38802cd3"
      },
      "outputs": [],
      "source": [
        "#loading packages\n",
        "from sklearn.preprocessing import StandardScaler\n",
        "from sklearn.preprocessing import FunctionTransformer\n",
        "from sklearn.pipeline import Pipeline, FeatureUnion\n",
        "from sklearn.model_selection import train_test_split\n",
        "from sklearn.preprocessing import LabelEncoder\n",
        "from sklearn.compose import ColumnTransformer\n",
        "from sklearn.base import BaseEstimator,TransformerMixin\n",
        "\n",
        "from sklearn.feature_selection import SelectKBest\n",
        "from sklearn.decomposition import PCA\n",
        "from sklearn.ensemble import RandomForestClassifier\n",
        "from sklearn.model_selection import GridSearchCV\n",
        "from sklearn.linear_model import RidgeClassifier\n",
        "\n",
        "#To display our model diagram\n",
        "from sklearn import set_config\n",
        "set_config(display='diagram')\n",
        "\n",
        "\n",
        "import pickle"
      ]
    },
    {
      "cell_type": "code",
      "execution_count": null,
      "id": "1867b072",
      "metadata": {
        "id": "1867b072",
        "outputId": "d8466a15-6f10-4715-bc2d-88c07687335b"
      },
      "outputs": [
        {
          "data": {
            "text/html": [
              "<div>\n",
              "<style scoped>\n",
              "    .dataframe tbody tr th:only-of-type {\n",
              "        vertical-align: middle;\n",
              "    }\n",
              "\n",
              "    .dataframe tbody tr th {\n",
              "        vertical-align: top;\n",
              "    }\n",
              "\n",
              "    .dataframe thead th {\n",
              "        text-align: right;\n",
              "    }\n",
              "</style>\n",
              "<table border=\"1\" class=\"dataframe\">\n",
              "  <thead>\n",
              "    <tr style=\"text-align: right;\">\n",
              "      <th></th>\n",
              "      <th>Gender</th>\n",
              "      <th>Married</th>\n",
              "      <th>Dependents</th>\n",
              "      <th>Education</th>\n",
              "      <th>Self_Employed</th>\n",
              "      <th>LoanAmount</th>\n",
              "      <th>Loan_Amount_Term</th>\n",
              "      <th>Credit_History</th>\n",
              "      <th>Property_Area</th>\n",
              "      <th>Loan_Status</th>\n",
              "      <th>Total_Income</th>\n",
              "    </tr>\n",
              "  </thead>\n",
              "  <tbody>\n",
              "    <tr>\n",
              "      <th>0</th>\n",
              "      <td>Male</td>\n",
              "      <td>No</td>\n",
              "      <td>0</td>\n",
              "      <td>Graduate</td>\n",
              "      <td>No</td>\n",
              "      <td>146</td>\n",
              "      <td>360.0</td>\n",
              "      <td>1.0</td>\n",
              "      <td>Urban</td>\n",
              "      <td>1</td>\n",
              "      <td>5849.0</td>\n",
              "    </tr>\n",
              "    <tr>\n",
              "      <th>1</th>\n",
              "      <td>Male</td>\n",
              "      <td>Yes</td>\n",
              "      <td>1</td>\n",
              "      <td>Graduate</td>\n",
              "      <td>No</td>\n",
              "      <td>128</td>\n",
              "      <td>360.0</td>\n",
              "      <td>1.0</td>\n",
              "      <td>Rural</td>\n",
              "      <td>0</td>\n",
              "      <td>6091.0</td>\n",
              "    </tr>\n",
              "    <tr>\n",
              "      <th>2</th>\n",
              "      <td>Male</td>\n",
              "      <td>Yes</td>\n",
              "      <td>0</td>\n",
              "      <td>Graduate</td>\n",
              "      <td>Yes</td>\n",
              "      <td>66</td>\n",
              "      <td>360.0</td>\n",
              "      <td>1.0</td>\n",
              "      <td>Urban</td>\n",
              "      <td>1</td>\n",
              "      <td>3000.0</td>\n",
              "    </tr>\n",
              "    <tr>\n",
              "      <th>3</th>\n",
              "      <td>Male</td>\n",
              "      <td>Yes</td>\n",
              "      <td>0</td>\n",
              "      <td>Not Graduate</td>\n",
              "      <td>No</td>\n",
              "      <td>120</td>\n",
              "      <td>360.0</td>\n",
              "      <td>1.0</td>\n",
              "      <td>Urban</td>\n",
              "      <td>1</td>\n",
              "      <td>4941.0</td>\n",
              "    </tr>\n",
              "    <tr>\n",
              "      <th>4</th>\n",
              "      <td>Male</td>\n",
              "      <td>No</td>\n",
              "      <td>0</td>\n",
              "      <td>Graduate</td>\n",
              "      <td>No</td>\n",
              "      <td>141</td>\n",
              "      <td>360.0</td>\n",
              "      <td>1.0</td>\n",
              "      <td>Urban</td>\n",
              "      <td>1</td>\n",
              "      <td>6000.0</td>\n",
              "    </tr>\n",
              "  </tbody>\n",
              "</table>\n",
              "</div>"
            ],
            "text/plain": [
              "  Gender Married Dependents     Education Self_Employed  LoanAmount  \\\n",
              "0   Male      No          0      Graduate            No         146   \n",
              "1   Male     Yes          1      Graduate            No         128   \n",
              "2   Male     Yes          0      Graduate           Yes          66   \n",
              "3   Male     Yes          0  Not Graduate            No         120   \n",
              "4   Male      No          0      Graduate            No         141   \n",
              "\n",
              "   Loan_Amount_Term  Credit_History Property_Area  Loan_Status  Total_Income  \n",
              "0             360.0             1.0         Urban            1        5849.0  \n",
              "1             360.0             1.0         Rural            0        6091.0  \n",
              "2             360.0             1.0         Urban            1        3000.0  \n",
              "3             360.0             1.0         Urban            1        4941.0  \n",
              "4             360.0             1.0         Urban            1        6000.0  "
            ]
          },
          "execution_count": 132,
          "metadata": {},
          "output_type": "execute_result"
        }
      ],
      "source": [
        "#Load cleaned_data\n",
        "df = pd.read_csv(\"data/cleaned_data.csv\")\n",
        "df.drop(columns='Unnamed: 0', inplace=True)\n",
        "df.head(5)"
      ]
    },
    {
      "cell_type": "code",
      "execution_count": null,
      "id": "83a6a56a",
      "metadata": {
        "id": "83a6a56a"
      },
      "outputs": [],
      "source": [
        "#split dataset\n",
        "X, y = df.drop(columns='Loan_Status'), df['Loan_Status'].values\n",
        "\n",
        "X_train, X_test, y_train, y_test = train_test_split(X, y, test_size=0.3, random_state=87)"
      ]
    },
    {
      "cell_type": "code",
      "execution_count": null,
      "id": "e997fa5b",
      "metadata": {
        "id": "e997fa5b"
      },
      "outputs": [],
      "source": [
        "#Log function\n",
        "def log_transform(x):\n",
        "    return np.log(x + 1)\n",
        "\n",
        "#Loan function    \n",
        "def Loan_term(X):\n",
        "    X = X/12\n",
        "    return X.astype(int)\n",
        "\n",
        "#Depedents function\n",
        "def Dependents_transform(X):\n",
        "    col = 'Dependents'\n",
        "    conditions  = [X == '0', X == '3+']\n",
        "    \n",
        "    X = np.select(conditions, [0,2], default=1)\n",
        "    \n",
        "    return X\n",
        "#Label encoder functions\n",
        "class CustomLabelEncode(BaseEstimator, TransformerMixin):\n",
        "    def fit(self, X, y=None):\n",
        "        return self\n",
        "    def transform(self, X ,y=None):\n",
        "        le=LabelEncoder()\n",
        "        for i in X[label_cols]:\n",
        "            X[i]=le.fit_transform(X[i])\n",
        "        return X"
      ]
    },
    {
      "cell_type": "markdown",
      "id": "e83e9f51",
      "metadata": {
        "id": "e83e9f51"
      },
      "source": [
        "###### Note: \n",
        "A function can not use in Pipeline, instead we have to create a Class objects includes 'fit' function and 'transform' function, to be able to use in Pipeline. \n",
        "\n",
        "I will use FunctionTransformer to transform our function to being use in our Pipelines. This is is simple way."
      ]
    },
    {
      "cell_type": "code",
      "execution_count": null,
      "id": "385bf97f",
      "metadata": {
        "id": "385bf97f"
      },
      "outputs": [],
      "source": [
        "#extract columns\n",
        "label_cols     = ['Gender','Married', 'Self_Employed', 'Education', 'Property_Area']\n",
        "log_scale_cols = ['LoanAmount', 'Total_Income']\n",
        "depep_cols     = ['Dependents']\n",
        "loan_cols      = ['Loan_Amount_Term']"
      ]
    },
    {
      "cell_type": "code",
      "execution_count": null,
      "id": "d10e8c67",
      "metadata": {
        "id": "d10e8c67"
      },
      "outputs": [],
      "source": [
        "#lb = ModifiedLabelEncoder()\n",
        "log_transformer = FunctionTransformer(log_transform)\n",
        "loan_transformer = FunctionTransformer(Loan_term)\n",
        "dependents_transformer = FunctionTransformer(Dependents_transform)\n",
        "sc = StandardScaler()"
      ]
    },
    {
      "cell_type": "code",
      "execution_count": null,
      "id": "253af40b",
      "metadata": {
        "id": "253af40b"
      },
      "outputs": [],
      "source": [
        "# Preprocessing pipeline, include all features transform\n",
        "num_pipe = Pipeline([\n",
        "  ('log_feats', log_transformer),\n",
        "  ('scaler', sc)\n",
        "])\n",
        "\n",
        "\n",
        "cols_transform = ColumnTransformer([\n",
        "    ('num_transform', num_pipe, log_scale_cols),\n",
        "    ('dependents_transforme', dependents_transformer, depep_cols),\n",
        "    ('loan_transform', loan_transformer, loan_cols),\n",
        "    ('label_encoder', CustomLabelEncode(), label_cols)\n",
        "],remainder='passthrough')\n",
        "\n",
        "\n",
        "feature_union = FeatureUnion([('pca', PCA()),\n",
        "                              ('select_best', SelectKBest(k=4))])"
      ]
    },
    {
      "cell_type": "code",
      "execution_count": null,
      "id": "770a8622",
      "metadata": {
        "id": "770a8622",
        "outputId": "cbb261e7-6572-449f-d0f6-1fc4f19b7317"
      },
      "outputs": [
        {
          "name": "stdout",
          "output_type": "stream",
          "text": [
            "Best test set accuracy:\n",
            "\t 0.8\n",
            "Achieved with hyperparameters:\n",
            "\t {'classifier__alpha': 0.001, 'features__pca__n_components': 3, 'features__select_best__k': 1}\n"
          ]
        }
      ],
      "source": [
        "#create main pipeline steps\n",
        "main_pipeline = Pipeline(steps=[('preprocessing', cols_transform),\n",
        "                                ('features', feature_union),\n",
        "                                ('classifier', RidgeClassifier())])\n",
        "\n",
        "# Find the best hyperparameters using GridSearchCV on the train set\n",
        "param_grid = {'classifier__alpha': [0.001, 0.002, 0.003, 0.01, 0.1], \n",
        "              'features__pca__n_components': [3,5,7],\n",
        "              'features__select_best__k': [1,2,3,4,6]}\n",
        "\n",
        "grid = GridSearchCV(main_pipeline, param_grid=param_grid, cv=5)\n",
        "grid.fit(X_train, y_train)\n",
        "\n",
        "\n",
        "best_model = grid.best_estimator_\n",
        "best_hyperparams = grid.best_params_\n",
        "best_acc = grid.score(X_test, y_test)\n",
        "print(f'Best test set accuracy:\\n\\t {best_acc}\\nAchieved with hyperparameters:\\n\\t {best_hyperparams}')"
      ]
    },
    {
      "cell_type": "code",
      "execution_count": null,
      "id": "4295122a",
      "metadata": {
        "id": "4295122a",
        "outputId": "da3d2741-4341-4aeb-86bc-c08a2e26f68a"
      },
      "outputs": [
        {
          "data": {
            "text/html": [
              "<style>#sk-container-id-3 {color: black;background-color: white;}#sk-container-id-3 pre{padding: 0;}#sk-container-id-3 div.sk-toggleable {background-color: white;}#sk-container-id-3 label.sk-toggleable__label {cursor: pointer;display: block;width: 100%;margin-bottom: 0;padding: 0.3em;box-sizing: border-box;text-align: center;}#sk-container-id-3 label.sk-toggleable__label-arrow:before {content: \"▸\";float: left;margin-right: 0.25em;color: #696969;}#sk-container-id-3 label.sk-toggleable__label-arrow:hover:before {color: black;}#sk-container-id-3 div.sk-estimator:hover label.sk-toggleable__label-arrow:before {color: black;}#sk-container-id-3 div.sk-toggleable__content {max-height: 0;max-width: 0;overflow: hidden;text-align: left;background-color: #f0f8ff;}#sk-container-id-3 div.sk-toggleable__content pre {margin: 0.2em;color: black;border-radius: 0.25em;background-color: #f0f8ff;}#sk-container-id-3 input.sk-toggleable__control:checked~div.sk-toggleable__content {max-height: 200px;max-width: 100%;overflow: auto;}#sk-container-id-3 input.sk-toggleable__control:checked~label.sk-toggleable__label-arrow:before {content: \"▾\";}#sk-container-id-3 div.sk-estimator input.sk-toggleable__control:checked~label.sk-toggleable__label {background-color: #d4ebff;}#sk-container-id-3 div.sk-label input.sk-toggleable__control:checked~label.sk-toggleable__label {background-color: #d4ebff;}#sk-container-id-3 input.sk-hidden--visually {border: 0;clip: rect(1px 1px 1px 1px);clip: rect(1px, 1px, 1px, 1px);height: 1px;margin: -1px;overflow: hidden;padding: 0;position: absolute;width: 1px;}#sk-container-id-3 div.sk-estimator {font-family: monospace;background-color: #f0f8ff;border: 1px dotted black;border-radius: 0.25em;box-sizing: border-box;margin-bottom: 0.5em;}#sk-container-id-3 div.sk-estimator:hover {background-color: #d4ebff;}#sk-container-id-3 div.sk-parallel-item::after {content: \"\";width: 100%;border-bottom: 1px solid gray;flex-grow: 1;}#sk-container-id-3 div.sk-label:hover label.sk-toggleable__label {background-color: #d4ebff;}#sk-container-id-3 div.sk-serial::before {content: \"\";position: absolute;border-left: 1px solid gray;box-sizing: border-box;top: 0;bottom: 0;left: 50%;z-index: 0;}#sk-container-id-3 div.sk-serial {display: flex;flex-direction: column;align-items: center;background-color: white;padding-right: 0.2em;padding-left: 0.2em;position: relative;}#sk-container-id-3 div.sk-item {position: relative;z-index: 1;}#sk-container-id-3 div.sk-parallel {display: flex;align-items: stretch;justify-content: center;background-color: white;position: relative;}#sk-container-id-3 div.sk-item::before, #sk-container-id-3 div.sk-parallel-item::before {content: \"\";position: absolute;border-left: 1px solid gray;box-sizing: border-box;top: 0;bottom: 0;left: 50%;z-index: -1;}#sk-container-id-3 div.sk-parallel-item {display: flex;flex-direction: column;z-index: 1;position: relative;background-color: white;}#sk-container-id-3 div.sk-parallel-item:first-child::after {align-self: flex-end;width: 50%;}#sk-container-id-3 div.sk-parallel-item:last-child::after {align-self: flex-start;width: 50%;}#sk-container-id-3 div.sk-parallel-item:only-child::after {width: 0;}#sk-container-id-3 div.sk-dashed-wrapped {border: 1px dashed gray;margin: 0 0.4em 0.5em 0.4em;box-sizing: border-box;padding-bottom: 0.4em;background-color: white;}#sk-container-id-3 div.sk-label label {font-family: monospace;font-weight: bold;display: inline-block;line-height: 1.2em;}#sk-container-id-3 div.sk-label-container {text-align: center;}#sk-container-id-3 div.sk-container {/* jupyter's `normalize.less` sets `[hidden] { display: none; }` but bootstrap.min.css set `[hidden] { display: none !important; }` so we also need the `!important` here to be able to override the default hidden behavior on the sphinx rendered scikit-learn.org. See: https://github.com/scikit-learn/scikit-learn/issues/21755 */display: inline-block !important;position: relative;}#sk-container-id-3 div.sk-text-repr-fallback {display: none;}</style><div id=\"sk-container-id-3\" class=\"sk-top-container\"><div class=\"sk-text-repr-fallback\"><pre>GridSearchCV(cv=5,\n",
              "             estimator=Pipeline(steps=[(&#x27;preprocessing&#x27;,\n",
              "                                        ColumnTransformer(remainder=&#x27;passthrough&#x27;,\n",
              "                                                          transformers=[(&#x27;num_transform&#x27;,\n",
              "                                                                         Pipeline(steps=[(&#x27;log_feats&#x27;,\n",
              "                                                                                          FunctionTransformer(func=&lt;function log_transform at 0x17ee49280&gt;)),\n",
              "                                                                                         (&#x27;scaler&#x27;,\n",
              "                                                                                          StandardScaler())]),\n",
              "                                                                         [&#x27;LoanAmount&#x27;,\n",
              "                                                                          &#x27;Total_Income&#x27;]),\n",
              "                                                                        (&#x27;dependents_transforme&#x27;,\n",
              "                                                                         FunctionTransformer(func=&lt;function Dep...\n",
              "                                                                         CustomLabelEncode(),\n",
              "                                                                         [&#x27;Gender&#x27;,\n",
              "                                                                          &#x27;Married&#x27;,\n",
              "                                                                          &#x27;Self_Employed&#x27;,\n",
              "                                                                          &#x27;Education&#x27;,\n",
              "                                                                          &#x27;Property_Area&#x27;])])),\n",
              "                                       (&#x27;features&#x27;,\n",
              "                                        FeatureUnion(transformer_list=[(&#x27;pca&#x27;,\n",
              "                                                                        PCA()),\n",
              "                                                                       (&#x27;select_best&#x27;,\n",
              "                                                                        SelectKBest(k=4))])),\n",
              "                                       (&#x27;classifier&#x27;, RidgeClassifier())]),\n",
              "             param_grid={&#x27;classifier__alpha&#x27;: [0.001, 0.002, 0.003, 0.01, 0.1],\n",
              "                         &#x27;features__pca__n_components&#x27;: [3, 5, 7],\n",
              "                         &#x27;features__select_best__k&#x27;: [1, 2, 3, 4, 6]})</pre><b>In a Jupyter environment, please rerun this cell to show the HTML representation or trust the notebook. <br />On GitHub, the HTML representation is unable to render, please try loading this page with nbviewer.org.</b></div><div class=\"sk-container\" hidden><div class=\"sk-item sk-dashed-wrapped\"><div class=\"sk-label-container\"><div class=\"sk-label sk-toggleable\"><input class=\"sk-toggleable__control sk-hidden--visually\" id=\"sk-estimator-id-37\" type=\"checkbox\" ><label for=\"sk-estimator-id-37\" class=\"sk-toggleable__label sk-toggleable__label-arrow\">GridSearchCV</label><div class=\"sk-toggleable__content\"><pre>GridSearchCV(cv=5,\n",
              "             estimator=Pipeline(steps=[(&#x27;preprocessing&#x27;,\n",
              "                                        ColumnTransformer(remainder=&#x27;passthrough&#x27;,\n",
              "                                                          transformers=[(&#x27;num_transform&#x27;,\n",
              "                                                                         Pipeline(steps=[(&#x27;log_feats&#x27;,\n",
              "                                                                                          FunctionTransformer(func=&lt;function log_transform at 0x17ee49280&gt;)),\n",
              "                                                                                         (&#x27;scaler&#x27;,\n",
              "                                                                                          StandardScaler())]),\n",
              "                                                                         [&#x27;LoanAmount&#x27;,\n",
              "                                                                          &#x27;Total_Income&#x27;]),\n",
              "                                                                        (&#x27;dependents_transforme&#x27;,\n",
              "                                                                         FunctionTransformer(func=&lt;function Dep...\n",
              "                                                                         CustomLabelEncode(),\n",
              "                                                                         [&#x27;Gender&#x27;,\n",
              "                                                                          &#x27;Married&#x27;,\n",
              "                                                                          &#x27;Self_Employed&#x27;,\n",
              "                                                                          &#x27;Education&#x27;,\n",
              "                                                                          &#x27;Property_Area&#x27;])])),\n",
              "                                       (&#x27;features&#x27;,\n",
              "                                        FeatureUnion(transformer_list=[(&#x27;pca&#x27;,\n",
              "                                                                        PCA()),\n",
              "                                                                       (&#x27;select_best&#x27;,\n",
              "                                                                        SelectKBest(k=4))])),\n",
              "                                       (&#x27;classifier&#x27;, RidgeClassifier())]),\n",
              "             param_grid={&#x27;classifier__alpha&#x27;: [0.001, 0.002, 0.003, 0.01, 0.1],\n",
              "                         &#x27;features__pca__n_components&#x27;: [3, 5, 7],\n",
              "                         &#x27;features__select_best__k&#x27;: [1, 2, 3, 4, 6]})</pre></div></div></div><div class=\"sk-parallel\"><div class=\"sk-parallel-item\"><div class=\"sk-item\"><div class=\"sk-label-container\"><div class=\"sk-label sk-toggleable\"><input class=\"sk-toggleable__control sk-hidden--visually\" id=\"sk-estimator-id-38\" type=\"checkbox\" ><label for=\"sk-estimator-id-38\" class=\"sk-toggleable__label sk-toggleable__label-arrow\">estimator: Pipeline</label><div class=\"sk-toggleable__content\"><pre>Pipeline(steps=[(&#x27;preprocessing&#x27;,\n",
              "                 ColumnTransformer(remainder=&#x27;passthrough&#x27;,\n",
              "                                   transformers=[(&#x27;num_transform&#x27;,\n",
              "                                                  Pipeline(steps=[(&#x27;log_feats&#x27;,\n",
              "                                                                   FunctionTransformer(func=&lt;function log_transform at 0x17ee49280&gt;)),\n",
              "                                                                  (&#x27;scaler&#x27;,\n",
              "                                                                   StandardScaler())]),\n",
              "                                                  [&#x27;LoanAmount&#x27;,\n",
              "                                                   &#x27;Total_Income&#x27;]),\n",
              "                                                 (&#x27;dependents_transforme&#x27;,\n",
              "                                                  FunctionTransformer(func=&lt;function Dependents_transform at 0x17ee494c0&gt;),\n",
              "                                                  [&#x27;Dependents&#x27;]),\n",
              "                                                 (&#x27;loan_transform&#x27;,\n",
              "                                                  FunctionTransformer(func=&lt;function Loan_term at 0x17ee493a0&gt;),\n",
              "                                                  [&#x27;Loan_Amount_Term&#x27;]),\n",
              "                                                 (&#x27;label_encoder&#x27;,\n",
              "                                                  CustomLabelEncode(),\n",
              "                                                  [&#x27;Gender&#x27;, &#x27;Married&#x27;,\n",
              "                                                   &#x27;Self_Employed&#x27;, &#x27;Education&#x27;,\n",
              "                                                   &#x27;Property_Area&#x27;])])),\n",
              "                (&#x27;features&#x27;,\n",
              "                 FeatureUnion(transformer_list=[(&#x27;pca&#x27;, PCA()),\n",
              "                                                (&#x27;select_best&#x27;,\n",
              "                                                 SelectKBest(k=4))])),\n",
              "                (&#x27;classifier&#x27;, RidgeClassifier())])</pre></div></div></div><div class=\"sk-serial\"><div class=\"sk-item\"><div class=\"sk-serial\"><div class=\"sk-item sk-dashed-wrapped\"><div class=\"sk-label-container\"><div class=\"sk-label sk-toggleable\"><input class=\"sk-toggleable__control sk-hidden--visually\" id=\"sk-estimator-id-39\" type=\"checkbox\" ><label for=\"sk-estimator-id-39\" class=\"sk-toggleable__label sk-toggleable__label-arrow\">preprocessing: ColumnTransformer</label><div class=\"sk-toggleable__content\"><pre>ColumnTransformer(remainder=&#x27;passthrough&#x27;,\n",
              "                  transformers=[(&#x27;num_transform&#x27;,\n",
              "                                 Pipeline(steps=[(&#x27;log_feats&#x27;,\n",
              "                                                  FunctionTransformer(func=&lt;function log_transform at 0x17ee49280&gt;)),\n",
              "                                                 (&#x27;scaler&#x27;, StandardScaler())]),\n",
              "                                 [&#x27;LoanAmount&#x27;, &#x27;Total_Income&#x27;]),\n",
              "                                (&#x27;dependents_transforme&#x27;,\n",
              "                                 FunctionTransformer(func=&lt;function Dependents_transform at 0x17ee494c0&gt;),\n",
              "                                 [&#x27;Dependents&#x27;]),\n",
              "                                (&#x27;loan_transform&#x27;,\n",
              "                                 FunctionTransformer(func=&lt;function Loan_term at 0x17ee493a0&gt;),\n",
              "                                 [&#x27;Loan_Amount_Term&#x27;]),\n",
              "                                (&#x27;label_encoder&#x27;, CustomLabelEncode(),\n",
              "                                 [&#x27;Gender&#x27;, &#x27;Married&#x27;, &#x27;Self_Employed&#x27;,\n",
              "                                  &#x27;Education&#x27;, &#x27;Property_Area&#x27;])])</pre></div></div></div><div class=\"sk-parallel\"><div class=\"sk-parallel-item\"><div class=\"sk-item\"><div class=\"sk-label-container\"><div class=\"sk-label sk-toggleable\"><input class=\"sk-toggleable__control sk-hidden--visually\" id=\"sk-estimator-id-40\" type=\"checkbox\" ><label for=\"sk-estimator-id-40\" class=\"sk-toggleable__label sk-toggleable__label-arrow\">num_transform</label><div class=\"sk-toggleable__content\"><pre>[&#x27;LoanAmount&#x27;, &#x27;Total_Income&#x27;]</pre></div></div></div><div class=\"sk-serial\"><div class=\"sk-item\"><div class=\"sk-serial\"><div class=\"sk-item\"><div class=\"sk-estimator sk-toggleable\"><input class=\"sk-toggleable__control sk-hidden--visually\" id=\"sk-estimator-id-41\" type=\"checkbox\" ><label for=\"sk-estimator-id-41\" class=\"sk-toggleable__label sk-toggleable__label-arrow\">FunctionTransformer</label><div class=\"sk-toggleable__content\"><pre>FunctionTransformer(func=&lt;function log_transform at 0x17ee49280&gt;)</pre></div></div></div><div class=\"sk-item\"><div class=\"sk-estimator sk-toggleable\"><input class=\"sk-toggleable__control sk-hidden--visually\" id=\"sk-estimator-id-42\" type=\"checkbox\" ><label for=\"sk-estimator-id-42\" class=\"sk-toggleable__label sk-toggleable__label-arrow\">StandardScaler</label><div class=\"sk-toggleable__content\"><pre>StandardScaler()</pre></div></div></div></div></div></div></div></div><div class=\"sk-parallel-item\"><div class=\"sk-item\"><div class=\"sk-label-container\"><div class=\"sk-label sk-toggleable\"><input class=\"sk-toggleable__control sk-hidden--visually\" id=\"sk-estimator-id-43\" type=\"checkbox\" ><label for=\"sk-estimator-id-43\" class=\"sk-toggleable__label sk-toggleable__label-arrow\">dependents_transforme</label><div class=\"sk-toggleable__content\"><pre>[&#x27;Dependents&#x27;]</pre></div></div></div><div class=\"sk-serial\"><div class=\"sk-item\"><div class=\"sk-estimator sk-toggleable\"><input class=\"sk-toggleable__control sk-hidden--visually\" id=\"sk-estimator-id-44\" type=\"checkbox\" ><label for=\"sk-estimator-id-44\" class=\"sk-toggleable__label sk-toggleable__label-arrow\">FunctionTransformer</label><div class=\"sk-toggleable__content\"><pre>FunctionTransformer(func=&lt;function Dependents_transform at 0x17ee494c0&gt;)</pre></div></div></div></div></div></div><div class=\"sk-parallel-item\"><div class=\"sk-item\"><div class=\"sk-label-container\"><div class=\"sk-label sk-toggleable\"><input class=\"sk-toggleable__control sk-hidden--visually\" id=\"sk-estimator-id-45\" type=\"checkbox\" ><label for=\"sk-estimator-id-45\" class=\"sk-toggleable__label sk-toggleable__label-arrow\">loan_transform</label><div class=\"sk-toggleable__content\"><pre>[&#x27;Loan_Amount_Term&#x27;]</pre></div></div></div><div class=\"sk-serial\"><div class=\"sk-item\"><div class=\"sk-estimator sk-toggleable\"><input class=\"sk-toggleable__control sk-hidden--visually\" id=\"sk-estimator-id-46\" type=\"checkbox\" ><label for=\"sk-estimator-id-46\" class=\"sk-toggleable__label sk-toggleable__label-arrow\">FunctionTransformer</label><div class=\"sk-toggleable__content\"><pre>FunctionTransformer(func=&lt;function Loan_term at 0x17ee493a0&gt;)</pre></div></div></div></div></div></div><div class=\"sk-parallel-item\"><div class=\"sk-item\"><div class=\"sk-label-container\"><div class=\"sk-label sk-toggleable\"><input class=\"sk-toggleable__control sk-hidden--visually\" id=\"sk-estimator-id-47\" type=\"checkbox\" ><label for=\"sk-estimator-id-47\" class=\"sk-toggleable__label sk-toggleable__label-arrow\">label_encoder</label><div class=\"sk-toggleable__content\"><pre>[&#x27;Gender&#x27;, &#x27;Married&#x27;, &#x27;Self_Employed&#x27;, &#x27;Education&#x27;, &#x27;Property_Area&#x27;]</pre></div></div></div><div class=\"sk-serial\"><div class=\"sk-item\"><div class=\"sk-estimator sk-toggleable\"><input class=\"sk-toggleable__control sk-hidden--visually\" id=\"sk-estimator-id-48\" type=\"checkbox\" ><label for=\"sk-estimator-id-48\" class=\"sk-toggleable__label sk-toggleable__label-arrow\">CustomLabelEncode</label><div class=\"sk-toggleable__content\"><pre>CustomLabelEncode()</pre></div></div></div></div></div></div><div class=\"sk-parallel-item\"><div class=\"sk-item\"><div class=\"sk-label-container\"><div class=\"sk-label sk-toggleable\"><input class=\"sk-toggleable__control sk-hidden--visually\" id=\"sk-estimator-id-49\" type=\"checkbox\" ><label for=\"sk-estimator-id-49\" class=\"sk-toggleable__label sk-toggleable__label-arrow\">remainder</label><div class=\"sk-toggleable__content\"><pre></pre></div></div></div><div class=\"sk-serial\"><div class=\"sk-item\"><div class=\"sk-estimator sk-toggleable\"><input class=\"sk-toggleable__control sk-hidden--visually\" id=\"sk-estimator-id-50\" type=\"checkbox\" ><label for=\"sk-estimator-id-50\" class=\"sk-toggleable__label sk-toggleable__label-arrow\">passthrough</label><div class=\"sk-toggleable__content\"><pre>passthrough</pre></div></div></div></div></div></div></div></div><div class=\"sk-item sk-dashed-wrapped\"><div class=\"sk-label-container\"><div class=\"sk-label sk-toggleable\"><input class=\"sk-toggleable__control sk-hidden--visually\" id=\"sk-estimator-id-51\" type=\"checkbox\" ><label for=\"sk-estimator-id-51\" class=\"sk-toggleable__label sk-toggleable__label-arrow\">features: FeatureUnion</label><div class=\"sk-toggleable__content\"><pre>FeatureUnion(transformer_list=[(&#x27;pca&#x27;, PCA()),\n",
              "                               (&#x27;select_best&#x27;, SelectKBest(k=4))])</pre></div></div></div><div class=\"sk-parallel\"><div class=\"sk-parallel-item\"><div class=\"sk-item\"><div class=\"sk-label-container\"><div class=\"sk-label sk-toggleable\"><label>pca</label></div></div><div class=\"sk-serial\"><div class=\"sk-item\"><div class=\"sk-estimator sk-toggleable\"><input class=\"sk-toggleable__control sk-hidden--visually\" id=\"sk-estimator-id-52\" type=\"checkbox\" ><label for=\"sk-estimator-id-52\" class=\"sk-toggleable__label sk-toggleable__label-arrow\">PCA</label><div class=\"sk-toggleable__content\"><pre>PCA()</pre></div></div></div></div></div></div><div class=\"sk-parallel-item\"><div class=\"sk-item\"><div class=\"sk-label-container\"><div class=\"sk-label sk-toggleable\"><label>select_best</label></div></div><div class=\"sk-serial\"><div class=\"sk-item\"><div class=\"sk-estimator sk-toggleable\"><input class=\"sk-toggleable__control sk-hidden--visually\" id=\"sk-estimator-id-53\" type=\"checkbox\" ><label for=\"sk-estimator-id-53\" class=\"sk-toggleable__label sk-toggleable__label-arrow\">SelectKBest</label><div class=\"sk-toggleable__content\"><pre>SelectKBest(k=4)</pre></div></div></div></div></div></div></div></div><div class=\"sk-item\"><div class=\"sk-estimator sk-toggleable\"><input class=\"sk-toggleable__control sk-hidden--visually\" id=\"sk-estimator-id-54\" type=\"checkbox\" ><label for=\"sk-estimator-id-54\" class=\"sk-toggleable__label sk-toggleable__label-arrow\">RidgeClassifier</label><div class=\"sk-toggleable__content\"><pre>RidgeClassifier()</pre></div></div></div></div></div></div></div></div></div></div></div></div>"
            ],
            "text/plain": [
              "GridSearchCV(cv=5,\n",
              "             estimator=Pipeline(steps=[('preprocessing',\n",
              "                                        ColumnTransformer(remainder='passthrough',\n",
              "                                                          transformers=[('num_transform',\n",
              "                                                                         Pipeline(steps=[('log_feats',\n",
              "                                                                                          FunctionTransformer(func=<function log_transform at 0x17ee49280>)),\n",
              "                                                                                         ('scaler',\n",
              "                                                                                          StandardScaler())]),\n",
              "                                                                         ['LoanAmount',\n",
              "                                                                          'Total_Income']),\n",
              "                                                                        ('dependents_transforme',\n",
              "                                                                         FunctionTransformer(func=<function Dep...\n",
              "                                                                         CustomLabelEncode(),\n",
              "                                                                         ['Gender',\n",
              "                                                                          'Married',\n",
              "                                                                          'Self_Employed',\n",
              "                                                                          'Education',\n",
              "                                                                          'Property_Area'])])),\n",
              "                                       ('features',\n",
              "                                        FeatureUnion(transformer_list=[('pca',\n",
              "                                                                        PCA()),\n",
              "                                                                       ('select_best',\n",
              "                                                                        SelectKBest(k=4))])),\n",
              "                                       ('classifier', RidgeClassifier())]),\n",
              "             param_grid={'classifier__alpha': [0.001, 0.002, 0.003, 0.01, 0.1],\n",
              "                         'features__pca__n_components': [3, 5, 7],\n",
              "                         'features__select_best__k': [1, 2, 3, 4, 6]})"
            ]
          },
          "execution_count": 139,
          "metadata": {},
          "output_type": "execute_result"
        }
      ],
      "source": [
        "grid.fit(X_train, y_train)"
      ]
    },
    {
      "cell_type": "code",
      "execution_count": null,
      "id": "5b3396c5",
      "metadata": {
        "id": "5b3396c5",
        "outputId": "7fd03be2-6747-4944-f032-87b0a790b89a"
      },
      "outputs": [
        {
          "data": {
            "text/plain": [
              "0.8"
            ]
          },
          "execution_count": 140,
          "metadata": {},
          "output_type": "execute_result"
        }
      ],
      "source": [
        "grid.score(X_test, y_test)"
      ]
    },
    {
      "cell_type": "markdown",
      "id": "d4479839",
      "metadata": {
        "id": "d4479839"
      },
      "source": [
        "##### Note: This score is the outcome of simple feature engineering and model. There are many way to improve this accuracy score, you can figure it out"
      ]
    },
    {
      "cell_type": "markdown",
      "id": "f5a63037",
      "metadata": {
        "id": "f5a63037"
      },
      "source": [
        "#### Save model using Pickle"
      ]
    },
    {
      "cell_type": "code",
      "execution_count": null,
      "id": "582fd233",
      "metadata": {
        "id": "582fd233"
      },
      "outputs": [],
      "source": [
        "# saving the model\n",
        "import pickle\n",
        "\n",
        "pickle.dump(grid, open('/Users/hople/Desktop/Bootcamp Lectures/mini-project-4/Model_Pickle/credit_classifier.pkl',\n",
        "                       'wb'))"
      ]
    },
    {
      "cell_type": "markdown",
      "id": "7d89e79a",
      "metadata": {
        "id": "7d89e79a"
      },
      "source": [
        "### 6. Deploy model on Flask app"
      ]
    },
    {
      "cell_type": "markdown",
      "id": "2d998fc1",
      "metadata": {
        "id": "2d998fc1"
      },
      "source": [
        "In this step, we’ll make a web application inside a Python file and run it to start the server, which will receive applicants informations includes customer's Gender, Marital Status, Education, Number of Dependents, Income, Loan Amount, Credit History, and this web app will return pre-approval decision."
      ]
    },
    {
      "cell_type": "markdown",
      "id": "164202bc",
      "metadata": {
        "id": "164202bc"
      },
      "source": [
        "##### Creating a Base Application\n",
        "Note: Base application has to be written in raw python enviroment. Visual Studio Code is a powerful tools supports different languages. You also can use notebook to create app.py, but I highly recommend create app.py on Visual Studio Code or other tools, such as Atom..\n",
        "\n",
        "* below is how I create app framework run on web, do not copy and past, try to type it."
      ]
    },
    {
      "cell_type": "code",
      "execution_count": null,
      "id": "15a8fff2",
      "metadata": {
        "id": "15a8fff2"
      },
      "outputs": [],
      "source": [
        "from flask import render_template, request, jsonify,Flask\n",
        "import flask\n",
        "\n",
        "# We need load all the python packages we use in previous sections here\n",
        "import numpy as np\n",
        "import traceback #allows you to send error to user\n",
        "import pickle\n",
        "import pandas as pd\n",
        "from sklearn.preprocessing import StandardScaler\n",
        "from sklearn.preprocessing import FunctionTransformer\n",
        "from sklearn.pipeline import Pipeline, FeatureUnion\n",
        "from sklearn.model_selection import train_test_split\n",
        "from sklearn.preprocessing import LabelEncoder\n",
        "from sklearn.compose import ColumnTransformer\n",
        "from sklearn.base import BaseEstimator,TransformerMixin\n",
        "\n",
        "from sklearn.feature_selection import SelectKBest\n",
        "from sklearn.decomposition import PCA\n",
        "from sklearn.ensemble import RandomForestClassifier\n",
        "from sklearn.model_selection import GridSearchCV\n",
        "from sklearn.linear_model import RidgeClassifier\n",
        "##############################\n",
        "\n",
        "\n",
        "# App definition\n",
        "app = Flask(__name__)\n",
        "\n",
        "#extract columns as previous sections\n",
        "#because our Pickle will load pipeline models which uses this columns for feature transformations \n",
        "label_cols = ['Gender','Married', 'Self_Employed', 'Education', 'Property_Area']\n",
        "log_scale_cols = ['LoanAmount', 'Total_Income']\n",
        "depep_cols = ['Dependents']\n",
        "loan_cols = ['Loan_Amount_Term']\n",
        "\n",
        "# The same reason, we also need all functions we define in previous sections as well in this app.py file\n",
        "def log_transform(x):\n",
        "    return np.log(x + 1)\n",
        "    \n",
        "def Loan_term(X):\n",
        "    X = X/12\n",
        "    return X.astype(int)\n",
        "\n",
        "def Dependents_transform(X):\n",
        "    col = 'Dependents'\n",
        "    conditions  = [X == '0', X == '3+']\n",
        "    \n",
        "    X = np.select(conditions, [0,2], default=1)\n",
        "    \n",
        "    return X\n",
        "\n",
        "class CustomLabelEncode(BaseEstimator, TransformerMixin):\n",
        "    def fit(self, X, y=None):\n",
        "        return self\n",
        "    def transform(self, X ,y=None):\n",
        "        le=LabelEncoder()\n",
        "        for i in X[label_cols]:\n",
        "            X[i]=le.fit_transform(X[i])\n",
        "        return X\n",
        "\n",
        "# importing pickle file we saved , our predictive models was serialized in this file\n",
        "with open('/Users/hople/Desktop/Bootcamp Lectures/mini-project-4/Model_Pickle/credit_classifier.pkl', 'rb') as f:\n",
        "   credit_predict = pickle.load(f)\n",
        "\n",
        "#webpage with two methods, POST and GET\n",
        "@app.route('/')\n",
        "def welcome():\n",
        "   return \"Welcome! Use this Flask App for Credit pre-determination\"\n",
        "\n",
        "@app.route('/predict', methods=['POST','GET'])\n",
        "def predict():\n",
        "\n",
        "   if flask.request.method == 'GET':\n",
        "       return \"Prediction page. Try using post with params to get specific prediction. \\\n",
        "                                   Format data to pandas dataframe\"\n",
        "                \n",
        "\n",
        "   if flask.request.method == 'POST':\n",
        "       try:\n",
        "           json_ = request.json # '_' since 'json' is a special word\n",
        "           print(json_)\n",
        "           query_pd = pd.DataFrame(json_)\n",
        "           prediction = list(credit_predict.predict(query_pd))\n",
        "            \n",
        "           #return 0: No, 1, Yes\n",
        "           return jsonify({\n",
        "               \"prediction\":str(prediction)\n",
        "           })\n",
        "\n",
        "       except:\n",
        "           return jsonify({\n",
        "               \"trace\": traceback.format_exc()\n",
        "               })\n",
        "\n",
        "\n",
        "\n",
        "if __name__ == \"__main__\":\n",
        "   app.run()"
      ]
    },
    {
      "cell_type": "markdown",
      "id": "8b162707",
      "metadata": {
        "id": "8b162707"
      },
      "source": [
        "1. Open Terminal\n",
        "2. go to working directory, containing the app.py\n",
        "3. run python app.py\n",
        "\n",
        "* You will see the following lines\n",
        "\n",
        "![Screen%20Shot%202022-09-26%20at%2011.12.49%20AM.png](attachment:Screen%20Shot%202022-09-26%20at%2011.12.49%20AM.png)\n",
        "\n",
        "\n",
        "4. When you go to the local address above, you will see \"Welcome! Use this Flask App for Credit pre-determination\""
      ]
    },
    {
      "cell_type": "markdown",
      "id": "ec3eaa30",
      "metadata": {
        "id": "ec3eaa30"
      },
      "source": [
        "#### Create POST request\n",
        "##### note: \n",
        "GET Method: Data is requested from a specific resource. \n",
        "\n",
        "POST request submit the data to be processed to a specific resource, and send back messages. By default, they don’t have any maximum length.\n",
        "      \n",
        "Here we need to submit json file include applicants information, \n",
        "\n",
        "Here is an example of how to create POST request python file to send to our web app and get result"
      ]
    },
    {
      "cell_type": "code",
      "execution_count": null,
      "id": "67cc0786",
      "metadata": {
        "id": "67cc0786",
        "outputId": "bc793daf-0a70-42da-f6ce-46088feff2f6"
      },
      "outputs": [
        {
          "name": "stdout",
          "output_type": "stream",
          "text": [
            "...\n",
            "request successful\n",
            "...\n",
            "{'prediction': '[0]'}\n"
          ]
        }
      ],
      "source": [
        "## Python test file for flask to test locally\n",
        "import requests as r\n",
        "import pandas as pd\n",
        "import json\n",
        "\n",
        "\n",
        "base_url = 'http://127.0.0.1:5000/' #base url local host\n",
        "\n",
        "\n",
        "json_data = [\n",
        "    {\n",
        "    \"Gender\" : \"Male\",\n",
        "    \"Married\" : \"Yes\",\n",
        "    \"Dependents\" : \"3+\",\n",
        "    \"Education\" : \"Not Graduate\",\n",
        "    \"Self_Employed\" : \"No\",\n",
        "    \"LoanAmount\" : 70,\n",
        "    \"Loan_Amount_Term\" : 180.0,\n",
        "    \"Credit_History\" : 0,\n",
        "    \"Property_Area\" : \"Urban\",\n",
        "    \"Total_Income\" : 4611,\n",
        "    }\n",
        "]\n",
        "\n",
        "# POST Response\n",
        "response = r.post(base_url + \"predict\", json = json_data)\n",
        "\n",
        "\n",
        "if response.status_code == 200:\n",
        "    print('...')\n",
        "    print('request successful')\n",
        "    print('...')\n",
        "    print(response.json())\n",
        "else:\n",
        "    print(response.json())\n",
        "    print('request failed')"
      ]
    },
    {
      "cell_type": "code",
      "execution_count": null,
      "id": "ed49a514",
      "metadata": {
        "id": "ed49a514"
      },
      "outputs": [],
      "source": []
    }
  ],
  "metadata": {
    "kernelspec": {
      "display_name": "Python 3.8 (tensorflow)",
      "language": "python",
      "name": "lighthouse"
    },
    "language_info": {
      "codemirror_mode": {
        "name": "ipython",
        "version": 3
      },
      "file_extension": ".py",
      "mimetype": "text/x-python",
      "name": "python",
      "nbconvert_exporter": "python",
      "pygments_lexer": "ipython3",
      "version": "3.9.13"
    },
    "colab": {
      "provenance": [],
      "include_colab_link": true
    }
  },
  "nbformat": 4,
  "nbformat_minor": 5
}